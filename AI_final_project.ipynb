{
  "nbformat": 4,
  "nbformat_minor": 0,
  "metadata": {
    "colab": {
      "provenance": [],
      "mount_file_id": "1dHSqRWCtJZ1TS2rQy7ztP8wPXzz6eZpF",
      "authorship_tag": "ABX9TyMciSXCDk/9hDiAYWNZdfWm",
      "include_colab_link": true
    },
    "kernelspec": {
      "name": "python3",
      "display_name": "Python 3"
    },
    "language_info": {
      "name": "python"
    }
  },
  "cells": [
    {
      "cell_type": "markdown",
      "metadata": {
        "id": "view-in-github",
        "colab_type": "text"
      },
      "source": [
        "<a href=\"https://colab.research.google.com/github/garrettfarley9/AI-Final-Project/blob/main/AI_final_project.ipynb\" target=\"_parent\"><img src=\"https://colab.research.google.com/assets/colab-badge.svg\" alt=\"Open In Colab\"/></a>"
      ]
    },
    {
      "cell_type": "code",
      "execution_count": 1,
      "metadata": {
        "id": "LQhzPciIA_FG"
      },
      "outputs": [],
      "source": [
        "##Imports\n",
        "import numpy as np\n",
        "import pandas as pd\n",
        "import matplotlib.pyplot as plt\n",
        "import seaborn as sns\n",
        "from tensorflow.keras.models import Sequential\n",
        "from tensorflow.keras.layers import Dense\n",
        "from keras.callbacks import EarlyStopping, ModelCheckpoint\n",
        "\n",
        "\n"
      ]
    },
    {
      "cell_type": "markdown",
      "source": [
        "##Phase 1 - Data Analysis"
      ],
      "metadata": {
        "id": "TqDH6Q9gLdJ2"
      }
    },
    {
      "cell_type": "code",
      "source": [
        "##Reading in data and calculating proportions of classes\n",
        "\n",
        "# mdf = pd.read_csv('https://www.kaggle.com/datasets/ulrikthygepedersen/mushroom-attributes/download?datasetVersionNumber=1')\n",
        "mdf = pd.read_csv('/content/drive/MyDrive/Colab Notebooks/mushroom.csv')\n",
        "counts = mdf.groupby(['class']).size()\n",
        "\n",
        "mdf.info()"
      ],
      "metadata": {
        "colab": {
          "base_uri": "https://localhost:8080/"
        },
        "id": "cXjg0iFoCQ10",
        "outputId": "a7fdc95a-66f2-4421-abdb-ba1707a8d215"
      },
      "execution_count": 2,
      "outputs": [
        {
          "output_type": "stream",
          "name": "stdout",
          "text": [
            "<class 'pandas.core.frame.DataFrame'>\n",
            "RangeIndex: 8124 entries, 0 to 8123\n",
            "Data columns (total 23 columns):\n",
            " #   Column                    Non-Null Count  Dtype \n",
            "---  ------                    --------------  ----- \n",
            " 0   cap-shape                 8124 non-null   object\n",
            " 1   cap-surface               8124 non-null   object\n",
            " 2   cap-color                 8124 non-null   object\n",
            " 3   bruises%3F                8124 non-null   object\n",
            " 4   odor                      8124 non-null   object\n",
            " 5   gill-attachment           8124 non-null   object\n",
            " 6   gill-spacing              8124 non-null   object\n",
            " 7   gill-size                 8124 non-null   object\n",
            " 8   gill-color                8124 non-null   object\n",
            " 9   stalk-shape               8124 non-null   object\n",
            " 10  stalk-root                8124 non-null   object\n",
            " 11  stalk-surface-above-ring  8124 non-null   object\n",
            " 12  stalk-surface-below-ring  8124 non-null   object\n",
            " 13  stalk-color-above-ring    8124 non-null   object\n",
            " 14  stalk-color-below-ring    8124 non-null   object\n",
            " 15  veil-type                 8124 non-null   object\n",
            " 16  veil-color                8124 non-null   object\n",
            " 17  ring-number               8124 non-null   object\n",
            " 18  ring-type                 8124 non-null   object\n",
            " 19  spore-print-color         8124 non-null   object\n",
            " 20  population                8124 non-null   object\n",
            " 21  habitat                   8124 non-null   object\n",
            " 22  class                     8124 non-null   object\n",
            "dtypes: object(23)\n",
            "memory usage: 1.4+ MB\n"
          ]
        }
      ]
    },
    {
      "cell_type": "code",
      "source": [
        "##Describe the dataset\n",
        "mdf.describe().T\n"
      ],
      "metadata": {
        "colab": {
          "base_uri": "https://localhost:8080/",
          "height": 771
        },
        "id": "WuzLn41LLDG1",
        "outputId": "d511d2b2-0b16-4254-d542-f18741f747f8"
      },
      "execution_count": 3,
      "outputs": [
        {
          "output_type": "execute_result",
          "data": {
            "text/plain": [
              "                         count unique   top  freq\n",
              "cap-shape                 8124      6  b'x'  3656\n",
              "cap-surface               8124      4  b'y'  3244\n",
              "cap-color                 8124     10  b'n'  2284\n",
              "bruises%3F                8124      2  b'f'  4748\n",
              "odor                      8124      9  b'n'  3528\n",
              "gill-attachment           8124      2  b'f'  7914\n",
              "gill-spacing              8124      2  b'c'  6812\n",
              "gill-size                 8124      2  b'b'  5612\n",
              "gill-color                8124     12  b'b'  1728\n",
              "stalk-shape               8124      2  b't'  4608\n",
              "stalk-root                8124      5  b'b'  3776\n",
              "stalk-surface-above-ring  8124      4  b's'  5176\n",
              "stalk-surface-below-ring  8124      4  b's'  4936\n",
              "stalk-color-above-ring    8124      9  b'w'  4464\n",
              "stalk-color-below-ring    8124      9  b'w'  4384\n",
              "veil-type                 8124      1  b'p'  8124\n",
              "veil-color                8124      4  b'w'  7924\n",
              "ring-number               8124      3  b'o'  7488\n",
              "ring-type                 8124      5  b'p'  3968\n",
              "spore-print-color         8124      9  b'w'  2388\n",
              "population                8124      6  b'v'  4040\n",
              "habitat                   8124      7  b'd'  3148\n",
              "class                     8124      2  b'e'  4208"
            ],
            "text/html": [
              "\n",
              "  <div id=\"df-8a279e6d-e8f2-4315-89ac-b43528f9e6d2\">\n",
              "    <div class=\"colab-df-container\">\n",
              "      <div>\n",
              "<style scoped>\n",
              "    .dataframe tbody tr th:only-of-type {\n",
              "        vertical-align: middle;\n",
              "    }\n",
              "\n",
              "    .dataframe tbody tr th {\n",
              "        vertical-align: top;\n",
              "    }\n",
              "\n",
              "    .dataframe thead th {\n",
              "        text-align: right;\n",
              "    }\n",
              "</style>\n",
              "<table border=\"1\" class=\"dataframe\">\n",
              "  <thead>\n",
              "    <tr style=\"text-align: right;\">\n",
              "      <th></th>\n",
              "      <th>count</th>\n",
              "      <th>unique</th>\n",
              "      <th>top</th>\n",
              "      <th>freq</th>\n",
              "    </tr>\n",
              "  </thead>\n",
              "  <tbody>\n",
              "    <tr>\n",
              "      <th>cap-shape</th>\n",
              "      <td>8124</td>\n",
              "      <td>6</td>\n",
              "      <td>b'x'</td>\n",
              "      <td>3656</td>\n",
              "    </tr>\n",
              "    <tr>\n",
              "      <th>cap-surface</th>\n",
              "      <td>8124</td>\n",
              "      <td>4</td>\n",
              "      <td>b'y'</td>\n",
              "      <td>3244</td>\n",
              "    </tr>\n",
              "    <tr>\n",
              "      <th>cap-color</th>\n",
              "      <td>8124</td>\n",
              "      <td>10</td>\n",
              "      <td>b'n'</td>\n",
              "      <td>2284</td>\n",
              "    </tr>\n",
              "    <tr>\n",
              "      <th>bruises%3F</th>\n",
              "      <td>8124</td>\n",
              "      <td>2</td>\n",
              "      <td>b'f'</td>\n",
              "      <td>4748</td>\n",
              "    </tr>\n",
              "    <tr>\n",
              "      <th>odor</th>\n",
              "      <td>8124</td>\n",
              "      <td>9</td>\n",
              "      <td>b'n'</td>\n",
              "      <td>3528</td>\n",
              "    </tr>\n",
              "    <tr>\n",
              "      <th>gill-attachment</th>\n",
              "      <td>8124</td>\n",
              "      <td>2</td>\n",
              "      <td>b'f'</td>\n",
              "      <td>7914</td>\n",
              "    </tr>\n",
              "    <tr>\n",
              "      <th>gill-spacing</th>\n",
              "      <td>8124</td>\n",
              "      <td>2</td>\n",
              "      <td>b'c'</td>\n",
              "      <td>6812</td>\n",
              "    </tr>\n",
              "    <tr>\n",
              "      <th>gill-size</th>\n",
              "      <td>8124</td>\n",
              "      <td>2</td>\n",
              "      <td>b'b'</td>\n",
              "      <td>5612</td>\n",
              "    </tr>\n",
              "    <tr>\n",
              "      <th>gill-color</th>\n",
              "      <td>8124</td>\n",
              "      <td>12</td>\n",
              "      <td>b'b'</td>\n",
              "      <td>1728</td>\n",
              "    </tr>\n",
              "    <tr>\n",
              "      <th>stalk-shape</th>\n",
              "      <td>8124</td>\n",
              "      <td>2</td>\n",
              "      <td>b't'</td>\n",
              "      <td>4608</td>\n",
              "    </tr>\n",
              "    <tr>\n",
              "      <th>stalk-root</th>\n",
              "      <td>8124</td>\n",
              "      <td>5</td>\n",
              "      <td>b'b'</td>\n",
              "      <td>3776</td>\n",
              "    </tr>\n",
              "    <tr>\n",
              "      <th>stalk-surface-above-ring</th>\n",
              "      <td>8124</td>\n",
              "      <td>4</td>\n",
              "      <td>b's'</td>\n",
              "      <td>5176</td>\n",
              "    </tr>\n",
              "    <tr>\n",
              "      <th>stalk-surface-below-ring</th>\n",
              "      <td>8124</td>\n",
              "      <td>4</td>\n",
              "      <td>b's'</td>\n",
              "      <td>4936</td>\n",
              "    </tr>\n",
              "    <tr>\n",
              "      <th>stalk-color-above-ring</th>\n",
              "      <td>8124</td>\n",
              "      <td>9</td>\n",
              "      <td>b'w'</td>\n",
              "      <td>4464</td>\n",
              "    </tr>\n",
              "    <tr>\n",
              "      <th>stalk-color-below-ring</th>\n",
              "      <td>8124</td>\n",
              "      <td>9</td>\n",
              "      <td>b'w'</td>\n",
              "      <td>4384</td>\n",
              "    </tr>\n",
              "    <tr>\n",
              "      <th>veil-type</th>\n",
              "      <td>8124</td>\n",
              "      <td>1</td>\n",
              "      <td>b'p'</td>\n",
              "      <td>8124</td>\n",
              "    </tr>\n",
              "    <tr>\n",
              "      <th>veil-color</th>\n",
              "      <td>8124</td>\n",
              "      <td>4</td>\n",
              "      <td>b'w'</td>\n",
              "      <td>7924</td>\n",
              "    </tr>\n",
              "    <tr>\n",
              "      <th>ring-number</th>\n",
              "      <td>8124</td>\n",
              "      <td>3</td>\n",
              "      <td>b'o'</td>\n",
              "      <td>7488</td>\n",
              "    </tr>\n",
              "    <tr>\n",
              "      <th>ring-type</th>\n",
              "      <td>8124</td>\n",
              "      <td>5</td>\n",
              "      <td>b'p'</td>\n",
              "      <td>3968</td>\n",
              "    </tr>\n",
              "    <tr>\n",
              "      <th>spore-print-color</th>\n",
              "      <td>8124</td>\n",
              "      <td>9</td>\n",
              "      <td>b'w'</td>\n",
              "      <td>2388</td>\n",
              "    </tr>\n",
              "    <tr>\n",
              "      <th>population</th>\n",
              "      <td>8124</td>\n",
              "      <td>6</td>\n",
              "      <td>b'v'</td>\n",
              "      <td>4040</td>\n",
              "    </tr>\n",
              "    <tr>\n",
              "      <th>habitat</th>\n",
              "      <td>8124</td>\n",
              "      <td>7</td>\n",
              "      <td>b'd'</td>\n",
              "      <td>3148</td>\n",
              "    </tr>\n",
              "    <tr>\n",
              "      <th>class</th>\n",
              "      <td>8124</td>\n",
              "      <td>2</td>\n",
              "      <td>b'e'</td>\n",
              "      <td>4208</td>\n",
              "    </tr>\n",
              "  </tbody>\n",
              "</table>\n",
              "</div>\n",
              "      <button class=\"colab-df-convert\" onclick=\"convertToInteractive('df-8a279e6d-e8f2-4315-89ac-b43528f9e6d2')\"\n",
              "              title=\"Convert this dataframe to an interactive table.\"\n",
              "              style=\"display:none;\">\n",
              "        \n",
              "  <svg xmlns=\"http://www.w3.org/2000/svg\" height=\"24px\"viewBox=\"0 0 24 24\"\n",
              "       width=\"24px\">\n",
              "    <path d=\"M0 0h24v24H0V0z\" fill=\"none\"/>\n",
              "    <path d=\"M18.56 5.44l.94 2.06.94-2.06 2.06-.94-2.06-.94-.94-2.06-.94 2.06-2.06.94zm-11 1L8.5 8.5l.94-2.06 2.06-.94-2.06-.94L8.5 2.5l-.94 2.06-2.06.94zm10 10l.94 2.06.94-2.06 2.06-.94-2.06-.94-.94-2.06-.94 2.06-2.06.94z\"/><path d=\"M17.41 7.96l-1.37-1.37c-.4-.4-.92-.59-1.43-.59-.52 0-1.04.2-1.43.59L10.3 9.45l-7.72 7.72c-.78.78-.78 2.05 0 2.83L4 21.41c.39.39.9.59 1.41.59.51 0 1.02-.2 1.41-.59l7.78-7.78 2.81-2.81c.8-.78.8-2.07 0-2.86zM5.41 20L4 18.59l7.72-7.72 1.47 1.35L5.41 20z\"/>\n",
              "  </svg>\n",
              "      </button>\n",
              "      \n",
              "  <style>\n",
              "    .colab-df-container {\n",
              "      display:flex;\n",
              "      flex-wrap:wrap;\n",
              "      gap: 12px;\n",
              "    }\n",
              "\n",
              "    .colab-df-convert {\n",
              "      background-color: #E8F0FE;\n",
              "      border: none;\n",
              "      border-radius: 50%;\n",
              "      cursor: pointer;\n",
              "      display: none;\n",
              "      fill: #1967D2;\n",
              "      height: 32px;\n",
              "      padding: 0 0 0 0;\n",
              "      width: 32px;\n",
              "    }\n",
              "\n",
              "    .colab-df-convert:hover {\n",
              "      background-color: #E2EBFA;\n",
              "      box-shadow: 0px 1px 2px rgba(60, 64, 67, 0.3), 0px 1px 3px 1px rgba(60, 64, 67, 0.15);\n",
              "      fill: #174EA6;\n",
              "    }\n",
              "\n",
              "    [theme=dark] .colab-df-convert {\n",
              "      background-color: #3B4455;\n",
              "      fill: #D2E3FC;\n",
              "    }\n",
              "\n",
              "    [theme=dark] .colab-df-convert:hover {\n",
              "      background-color: #434B5C;\n",
              "      box-shadow: 0px 1px 3px 1px rgba(0, 0, 0, 0.15);\n",
              "      filter: drop-shadow(0px 1px 2px rgba(0, 0, 0, 0.3));\n",
              "      fill: #FFFFFF;\n",
              "    }\n",
              "  </style>\n",
              "\n",
              "      <script>\n",
              "        const buttonEl =\n",
              "          document.querySelector('#df-8a279e6d-e8f2-4315-89ac-b43528f9e6d2 button.colab-df-convert');\n",
              "        buttonEl.style.display =\n",
              "          google.colab.kernel.accessAllowed ? 'block' : 'none';\n",
              "\n",
              "        async function convertToInteractive(key) {\n",
              "          const element = document.querySelector('#df-8a279e6d-e8f2-4315-89ac-b43528f9e6d2');\n",
              "          const dataTable =\n",
              "            await google.colab.kernel.invokeFunction('convertToInteractive',\n",
              "                                                     [key], {});\n",
              "          if (!dataTable) return;\n",
              "\n",
              "          const docLinkHtml = 'Like what you see? Visit the ' +\n",
              "            '<a target=\"_blank\" href=https://colab.research.google.com/notebooks/data_table.ipynb>data table notebook</a>'\n",
              "            + ' to learn more about interactive tables.';\n",
              "          element.innerHTML = '';\n",
              "          dataTable['output_type'] = 'display_data';\n",
              "          await google.colab.output.renderOutput(dataTable, element);\n",
              "          const docLink = document.createElement('div');\n",
              "          docLink.innerHTML = docLinkHtml;\n",
              "          element.appendChild(docLink);\n",
              "        }\n",
              "      </script>\n",
              "    </div>\n",
              "  </div>\n",
              "  "
            ]
          },
          "metadata": {},
          "execution_count": 3
        }
      ]
    },
    {
      "cell_type": "code",
      "source": [
        "fig, ax = plt.subplots(nrows = 6, ncols = 4, figsize = (12,8), layout = 'constrained')\n",
        "ax = ax.flatten()\n",
        "for i, col in enumerate(mdf.columns):\n",
        "    sns.histplot(mdf[col], ax=ax[i])\n",
        "# plt.tight_layout()\n"
      ],
      "metadata": {
        "colab": {
          "base_uri": "https://localhost:8080/",
          "height": 828
        },
        "id": "EJlqgFlWB-Mg",
        "outputId": "4852cd4d-239f-48ab-c4b5-abbcac312fc2"
      },
      "execution_count": 4,
      "outputs": [
        {
          "output_type": "display_data",
          "data": {
            "text/plain": [
              "<Figure size 1200x800 with 24 Axes>"
            ],
            "image/png": "[encoded data removed]"
          },
          "metadata": {}
        }
      ]
    },
    {
      "cell_type": "code",
      "source": [
        "##Label encoding\n",
        "cols = mdf.columns\n",
        "for c in cols:\n",
        "  uni = mdf[c].unique()\n",
        "  map = {}\n",
        "  for x in range(len(uni)):\n",
        "    map[uni[x]] = x\n",
        "  mdf[c].replace(map, inplace= True)\n",
        "\n"
      ],
      "metadata": {
        "id": "d6bQ6JXQCbRv"
      },
      "execution_count": 5,
      "outputs": []
    },
    {
      "cell_type": "code",
      "source": [
        "mdf.head()"
      ],
      "metadata": {
        "colab": {
          "base_uri": "https://localhost:8080/",
          "height": 352
        },
        "id": "MhO0Th0p8X1n",
        "outputId": "9f424cf0-7bb8-4941-f290-fe8a1d2a5101"
      },
      "execution_count": 87,
      "outputs": [
        {
          "output_type": "execute_result",
          "data": {
            "text/plain": [
              "   cap-shape  cap-surface  cap-color  bruises%3F  odor  gill-attachment  \\\n",
              "0          0            0          4           1     4                0   \n",
              "1          0            0          5           1     5                0   \n",
              "2          0            0          0           1     6                0   \n",
              "3          3            0          3           1     3                0   \n",
              "4          0            0          4           1     4                0   \n",
              "\n",
              "   gill-spacing  gill-size  gill-color  stalk-shape  ...  \\\n",
              "0             0          0           8            1  ...   \n",
              "1             0          0           1            0  ...   \n",
              "2             0          0           8            1  ...   \n",
              "3             1          1           0            1  ...   \n",
              "4             0          0           8            1  ...   \n",
              "\n",
              "   stalk-color-above-ring  stalk-color-below-ring  veil-type  veil-color  \\\n",
              "0                       2                       1          0           0   \n",
              "1                       0                       0          0           0   \n",
              "2                       0                       0          0           0   \n",
              "3                       0                       0          0           0   \n",
              "4                       2                       0          0           0   \n",
              "\n",
              "   ring-number  ring-type  spore-print-color  population  habitat  class  \n",
              "0            0          1                  4           3        3      0  \n",
              "1            0          0                  1           0        3      0  \n",
              "2            0          1                  4           3        6      0  \n",
              "3            0          1                  0           0        1      1  \n",
              "4            0          1                  4           3        6      0  \n",
              "\n",
              "[5 rows x 23 columns]"
            ],
            "text/html": [
              "\n",
              "  <div id=\"df-69fb729f-3163-48fe-9872-5f8f443247e6\">\n",
              "    <div class=\"colab-df-container\">\n",
              "      <div>\n",
              "<style scoped>\n",
              "    .dataframe tbody tr th:only-of-type {\n",
              "        vertical-align: middle;\n",
              "    }\n",
              "\n",
              "    .dataframe tbody tr th {\n",
              "        vertical-align: top;\n",
              "    }\n",
              "\n",
              "    .dataframe thead th {\n",
              "        text-align: right;\n",
              "    }\n",
              "</style>\n",
              "<table border=\"1\" class=\"dataframe\">\n",
              "  <thead>\n",
              "    <tr style=\"text-align: right;\">\n",
              "      <th></th>\n",
              "      <th>cap-shape</th>\n",
              "      <th>cap-surface</th>\n",
              "      <th>cap-color</th>\n",
              "      <th>bruises%3F</th>\n",
              "      <th>odor</th>\n",
              "      <th>gill-attachment</th>\n",
              "      <th>gill-spacing</th>\n",
              "      <th>gill-size</th>\n",
              "      <th>gill-color</th>\n",
              "      <th>stalk-shape</th>\n",
              "      <th>...</th>\n",
              "      <th>stalk-color-above-ring</th>\n",
              "      <th>stalk-color-below-ring</th>\n",
              "      <th>veil-type</th>\n",
              "      <th>veil-color</th>\n",
              "      <th>ring-number</th>\n",
              "      <th>ring-type</th>\n",
              "      <th>spore-print-color</th>\n",
              "      <th>population</th>\n",
              "      <th>habitat</th>\n",
              "      <th>class</th>\n",
              "    </tr>\n",
              "  </thead>\n",
              "  <tbody>\n",
              "    <tr>\n",
              "      <th>0</th>\n",
              "      <td>0</td>\n",
              "      <td>0</td>\n",
              "      <td>4</td>\n",
              "      <td>1</td>\n",
              "      <td>4</td>\n",
              "      <td>0</td>\n",
              "      <td>0</td>\n",
              "      <td>0</td>\n",
              "      <td>8</td>\n",
              "      <td>1</td>\n",
              "      <td>...</td>\n",
              "      <td>2</td>\n",
              "      <td>1</td>\n",
              "      <td>0</td>\n",
              "      <td>0</td>\n",
              "      <td>0</td>\n",
              "      <td>1</td>\n",
              "      <td>4</td>\n",
              "      <td>3</td>\n",
              "      <td>3</td>\n",
              "      <td>0</td>\n",
              "    </tr>\n",
              "    <tr>\n",
              "      <th>1</th>\n",
              "      <td>0</td>\n",
              "      <td>0</td>\n",
              "      <td>5</td>\n",
              "      <td>1</td>\n",
              "      <td>5</td>\n",
              "      <td>0</td>\n",
              "      <td>0</td>\n",
              "      <td>0</td>\n",
              "      <td>1</td>\n",
              "      <td>0</td>\n",
              "      <td>...</td>\n",
              "      <td>0</td>\n",
              "      <td>0</td>\n",
              "      <td>0</td>\n",
              "      <td>0</td>\n",
              "      <td>0</td>\n",
              "      <td>0</td>\n",
              "      <td>1</td>\n",
              "      <td>0</td>\n",
              "      <td>3</td>\n",
              "      <td>0</td>\n",
              "    </tr>\n",
              "    <tr>\n",
              "      <th>2</th>\n",
              "      <td>0</td>\n",
              "      <td>0</td>\n",
              "      <td>0</td>\n",
              "      <td>1</td>\n",
              "      <td>6</td>\n",
              "      <td>0</td>\n",
              "      <td>0</td>\n",
              "      <td>0</td>\n",
              "      <td>8</td>\n",
              "      <td>1</td>\n",
              "      <td>...</td>\n",
              "      <td>0</td>\n",
              "      <td>0</td>\n",
              "      <td>0</td>\n",
              "      <td>0</td>\n",
              "      <td>0</td>\n",
              "      <td>1</td>\n",
              "      <td>4</td>\n",
              "      <td>3</td>\n",
              "      <td>6</td>\n",
              "      <td>0</td>\n",
              "    </tr>\n",
              "    <tr>\n",
              "      <th>3</th>\n",
              "      <td>3</td>\n",
              "      <td>0</td>\n",
              "      <td>3</td>\n",
              "      <td>1</td>\n",
              "      <td>3</td>\n",
              "      <td>0</td>\n",
              "      <td>1</td>\n",
              "      <td>1</td>\n",
              "      <td>0</td>\n",
              "      <td>1</td>\n",
              "      <td>...</td>\n",
              "      <td>0</td>\n",
              "      <td>0</td>\n",
              "      <td>0</td>\n",
              "      <td>0</td>\n",
              "      <td>0</td>\n",
              "      <td>1</td>\n",
              "      <td>0</td>\n",
              "      <td>0</td>\n",
              "      <td>1</td>\n",
              "      <td>1</td>\n",
              "    </tr>\n",
              "    <tr>\n",
              "      <th>4</th>\n",
              "      <td>0</td>\n",
              "      <td>0</td>\n",
              "      <td>4</td>\n",
              "      <td>1</td>\n",
              "      <td>4</td>\n",
              "      <td>0</td>\n",
              "      <td>0</td>\n",
              "      <td>0</td>\n",
              "      <td>8</td>\n",
              "      <td>1</td>\n",
              "      <td>...</td>\n",
              "      <td>2</td>\n",
              "      <td>0</td>\n",
              "      <td>0</td>\n",
              "      <td>0</td>\n",
              "      <td>0</td>\n",
              "      <td>1</td>\n",
              "      <td>4</td>\n",
              "      <td>3</td>\n",
              "      <td>6</td>\n",
              "      <td>0</td>\n",
              "    </tr>\n",
              "  </tbody>\n",
              "</table>\n",
              "<p>5 rows × 23 columns</p>\n",
              "</div>\n",
              "      <button class=\"colab-df-convert\" onclick=\"convertToInteractive('df-69fb729f-3163-48fe-9872-5f8f443247e6')\"\n",
              "              title=\"Convert this dataframe to an interactive table.\"\n",
              "              style=\"display:none;\">\n",
              "        \n",
              "  <svg xmlns=\"http://www.w3.org/2000/svg\" height=\"24px\"viewBox=\"0 0 24 24\"\n",
              "       width=\"24px\">\n",
              "    <path d=\"M0 0h24v24H0V0z\" fill=\"none\"/>\n",
              "    <path d=\"M18.56 5.44l.94 2.06.94-2.06 2.06-.94-2.06-.94-.94-2.06-.94 2.06-2.06.94zm-11 1L8.5 8.5l.94-2.06 2.06-.94-2.06-.94L8.5 2.5l-.94 2.06-2.06.94zm10 10l.94 2.06.94-2.06 2.06-.94-2.06-.94-.94-2.06-.94 2.06-2.06.94z\"/><path d=\"M17.41 7.96l-1.37-1.37c-.4-.4-.92-.59-1.43-.59-.52 0-1.04.2-1.43.59L10.3 9.45l-7.72 7.72c-.78.78-.78 2.05 0 2.83L4 21.41c.39.39.9.59 1.41.59.51 0 1.02-.2 1.41-.59l7.78-7.78 2.81-2.81c.8-.78.8-2.07 0-2.86zM5.41 20L4 18.59l7.72-7.72 1.47 1.35L5.41 20z\"/>\n",
              "  </svg>\n",
              "      </button>\n",
              "      \n",
              "  <style>\n",
              "    .colab-df-container {\n",
              "      display:flex;\n",
              "      flex-wrap:wrap;\n",
              "      gap: 12px;\n",
              "    }\n",
              "\n",
              "    .colab-df-convert {\n",
              "      background-color: #E8F0FE;\n",
              "      border: none;\n",
              "      border-radius: 50%;\n",
              "      cursor: pointer;\n",
              "      display: none;\n",
              "      fill: #1967D2;\n",
              "      height: 32px;\n",
              "      padding: 0 0 0 0;\n",
              "      width: 32px;\n",
              "    }\n",
              "\n",
              "    .colab-df-convert:hover {\n",
              "      background-color: #E2EBFA;\n",
              "      box-shadow: 0px 1px 2px rgba(60, 64, 67, 0.3), 0px 1px 3px 1px rgba(60, 64, 67, 0.15);\n",
              "      fill: #174EA6;\n",
              "    }\n",
              "\n",
              "    [theme=dark] .colab-df-convert {\n",
              "      background-color: #3B4455;\n",
              "      fill: #D2E3FC;\n",
              "    }\n",
              "\n",
              "    [theme=dark] .colab-df-convert:hover {\n",
              "      background-color: #434B5C;\n",
              "      box-shadow: 0px 1px 3px 1px rgba(0, 0, 0, 0.15);\n",
              "      filter: drop-shadow(0px 1px 2px rgba(0, 0, 0, 0.3));\n",
              "      fill: #FFFFFF;\n",
              "    }\n",
              "  </style>\n",
              "\n",
              "      <script>\n",
              "        const buttonEl =\n",
              "          document.querySelector('#df-69fb729f-3163-48fe-9872-5f8f443247e6 button.colab-df-convert');\n",
              "        buttonEl.style.display =\n",
              "          google.colab.kernel.accessAllowed ? 'block' : 'none';\n",
              "\n",
              "        async function convertToInteractive(key) {\n",
              "          const element = document.querySelector('#df-69fb729f-3163-48fe-9872-5f8f443247e6');\n",
              "          const dataTable =\n",
              "            await google.colab.kernel.invokeFunction('convertToInteractive',\n",
              "                                                     [key], {});\n",
              "          if (!dataTable) return;\n",
              "\n",
              "          const docLinkHtml = 'Like what you see? Visit the ' +\n",
              "            '<a target=\"_blank\" href=https://colab.research.google.com/notebooks/data_table.ipynb>data table notebook</a>'\n",
              "            + ' to learn more about interactive tables.';\n",
              "          element.innerHTML = '';\n",
              "          dataTable['output_type'] = 'display_data';\n",
              "          await google.colab.output.renderOutput(dataTable, element);\n",
              "          const docLink = document.createElement('div');\n",
              "          docLink.innerHTML = docLinkHtml;\n",
              "          element.appendChild(docLink);\n",
              "        }\n",
              "      </script>\n",
              "    </div>\n",
              "  </div>\n",
              "  "
            ]
          },
          "metadata": {},
          "execution_count": 87
        }
      ]
    },
    {
      "cell_type": "markdown",
      "source": [
        "##Phase 2 - Overfitting"
      ],
      "metadata": {
        "id": "iiOnxAicLj2H"
      }
    },
    {
      "cell_type": "code",
      "source": [
        "mdf2 = mdf.copy()\n",
        "over_X = mdf2.drop(23)\n",
        "over_Y = mdf2['class']\n",
        "over = Sequential()\n",
        "over.add(Dense(2, input_dim = 22, activation = 'relu'))\n",
        "over.add(Dense(1, activation = 'sigmoid'))\n",
        "over.compile(loss = 'binary_crossentropy', optimizer = 'adam', metrics = 'accuracy')\n",
        "\n",
        "print(over.summary())"
      ],
      "metadata": {
        "colab": {
          "base_uri": "https://localhost:8080/"
        },
        "id": "nDuJ7e8ApUmF",
        "outputId": "57df47d7-cad1-4d92-b5a2-47af6c3d9ef4"
      },
      "execution_count": 93,
      "outputs": [
        {
          "output_type": "stream",
          "name": "stdout",
          "text": [
            "Model: \"sequential_121\"\n",
            "_________________________________________________________________\n",
            " Layer (type)                Output Shape              Param #   \n",
            "=================================================================\n",
            " dense_281 (Dense)           (None, 2)                 46        \n",
            "                                                                 \n",
            " dense_282 (Dense)           (None, 1)                 3         \n",
            "                                                                 \n",
            "=================================================================\n",
            "Total params: 49\n",
            "Trainable params: 49\n",
            "Non-trainable params: 0\n",
            "_________________________________________________________________\n",
            "None\n"
          ]
        }
      ]
    },
    {
      "cell_type": "markdown",
      "source": [
        "##Phase 3 - Model Selection and Validation"
      ],
      "metadata": {
        "id": "XvJdFhGDLxyL"
      }
    },
    {
      "cell_type": "code",
      "source": [
        "##Shuffle the data to mitigate overfitting\n",
        "np.random.shuffle(mdf.values)"
      ],
      "metadata": {
        "id": "iWxwsKIhPJtP"
      },
      "execution_count": 9,
      "outputs": []
    },
    {
      "cell_type": "code",
      "source": [
        "##Split into training and testing\n",
        "\n",
        "index_20percent = int(0.2 * len(mdf.index))\n",
        "print(index_20percent)\n",
        "test = mdf[:index_20percent]\n",
        "train = mdf[index_20percent:]\n",
        "\n",
        "XVALID = test.drop(columns = 'class')\n",
        "YVALID = pd.DataFrame(test['class'])\n",
        "XTRAIN = train.drop(columns = 'class', axis = 1)\n",
        "YTRAIN = pd.DataFrame(train['class'])\n",
        "shapes = [XTRAIN, YTRAIN, XVALID, YVALID]\n",
        "for i in shapes:\n",
        "  print(i.shape)"
      ],
      "metadata": {
        "id": "_f-kRrnnNCVX",
        "colab": {
          "base_uri": "https://localhost:8080/"
        },
        "outputId": "cc5bd1cc-b211-4e08-95fb-cb6e37e4b495"
      },
      "execution_count": 21,
      "outputs": [
        {
          "output_type": "stream",
          "name": "stdout",
          "text": [
            "1624\n",
            "(6500, 22)\n",
            "(6500, 1)\n",
            "(1624, 22)\n",
            "(1624, 1)\n"
          ]
        }
      ]
    },
    {
      "cell_type": "code",
      "source": [
        "##Create simple logistic regression\n",
        "\n",
        "model = Sequential()\n",
        "model.add(Dense(2, input_dim = 22, activation = 'relu'))\n",
        "model.add(Dense(1, activation = 'sigmoid'))\n",
        "model.compile(loss = 'binary_crossentropy', optimizer = 'adam', metrics = 'accuracy')\n",
        "\n",
        "print(model.summary())\n"
      ],
      "metadata": {
        "colab": {
          "base_uri": "https://localhost:8080/"
        },
        "id": "qF4kecp1BTQ1",
        "outputId": "2fd07809-f054-4532-e748-de9e0ab9b3f2"
      },
      "execution_count": 24,
      "outputs": [
        {
          "output_type": "stream",
          "name": "stdout",
          "text": [
            "Model: \"sequential\"\n",
            "_________________________________________________________________\n",
            " Layer (type)                Output Shape              Param #   \n",
            "=================================================================\n",
            " dense (Dense)               (None, 2)                 46        \n",
            "                                                                 \n",
            " dense_1 (Dense)             (None, 1)                 3         \n",
            "                                                                 \n",
            "=================================================================\n",
            "Total params: 49\n",
            "Trainable params: 49\n",
            "Non-trainable params: 0\n",
            "_________________________________________________________________\n",
            "None\n"
          ]
        }
      ]
    },
    {
      "cell_type": "code",
      "source": [
        "#model.compile(loss = 'binary_crossentropy', optimizer = 'adam', metrics = ['accuracy'])"
      ],
      "metadata": {
        "id": "L9q9KPrGTYYL"
      },
      "execution_count": null,
      "outputs": []
    },
    {
      "cell_type": "code",
      "source": [
        "##Log callbacks for model checkpoints\n",
        "callback_a = ModelCheckpoint(filepath = 'best_model', monitor = 'val_loss', save_best_only = True, save_weights_only = True)\n",
        "callback_b = EarlyStopping(monitor = 'val_loss', mode = 'min', patience = 20, verbose = 1)\n"
      ],
      "metadata": {
        "id": "ERjB74y2rrEU"
      },
      "execution_count": 25,
      "outputs": []
    },
    {
      "cell_type": "code",
      "source": [
        "##Fit the model and output epoch information\n",
        "history = model.fit(XTRAIN, YTRAIN, validation_data = (XVALID, YVALID), epochs = 100, batch_size = 10, callbacks = [callback_a,callback_b], verbose = 0)"
      ],
      "metadata": {
        "colab": {
          "base_uri": "https://localhost:8080/"
        },
        "id": "Aav4XvF3soj8",
        "outputId": "d7925c8c-0ee2-49f2-f1bd-ec8ab8b43fdc"
      },
      "execution_count": 38,
      "outputs": [
        {
          "output_type": "stream",
          "name": "stdout",
          "text": [
            "Epoch 61: early stopping\n"
          ]
        }
      ]
    },
    {
      "cell_type": "code",
      "source": [
        "print(history.params)"
      ],
      "metadata": {
        "colab": {
          "base_uri": "https://localhost:8080/"
        },
        "id": "DCP8NfbF03uR",
        "outputId": "3313698d-dd76-4794-a2b1-12807a79640b"
      },
      "execution_count": 39,
      "outputs": [
        {
          "output_type": "stream",
          "name": "stdout",
          "text": [
            "{'verbose': 0, 'epochs': 100, 'steps': 650}\n"
          ]
        }
      ]
    },
    {
      "cell_type": "code",
      "source": [
        "##Plot the accuracy over epochs\n",
        "plt.plot(history.history['accuracy'])\n",
        "plt.plot(history.history['val_accuracy'])\n",
        "plt.ylabel('Accuracy')\n",
        "plt.xlabel('epoch')\n",
        "plt.legend(['training data', 'validation data'], loc = 'lower right')\n",
        "plt.show()"
      ],
      "metadata": {
        "colab": {
          "base_uri": "https://localhost:8080/",
          "height": 449
        },
        "id": "_WdgRwtT08_A",
        "outputId": "9831b003-051a-40a0-a711-7e829dd371d6"
      },
      "execution_count": 40,
      "outputs": [
        {
          "output_type": "display_data",
          "data": {
            "text/plain": [
              "<Figure size 640x480 with 1 Axes>"
            ],
            "image/png": "[encoded data removed]"
          },
          "metadata": {}
        }
      ]
    },
    {
      "cell_type": "code",
      "source": [
        "model.load_weights('best_model')"
      ],
      "metadata": {
        "colab": {
          "base_uri": "https://localhost:8080/"
        },
        "id": "uNPPKyb4H6pK",
        "outputId": "106bcf06-b932-46a5-fcba-c89f0ccf9ce6"
      },
      "execution_count": 34,
      "outputs": [
        {
          "output_type": "execute_result",
          "data": {
            "text/plain": [
              "<tensorflow.python.checkpoint.checkpoint.CheckpointLoadStatus at 0x7f4258ec9be0>"
            ]
          },
          "metadata": {},
          "execution_count": 34
        }
      ]
    },
    {
      "cell_type": "code",
      "source": [
        "#Evaluate the model with training data\n",
        "scores = model.evaluate(XTRAIN, YTRAIN)\n",
        "print(model.metrics_names)\n",
        "print(scores)\n",
        "print(model.metrics_names[1], scores[1]*100)"
      ],
      "metadata": {
        "colab": {
          "base_uri": "https://localhost:8080/"
        },
        "id": "fJX9l3GNIIA-",
        "outputId": "f3ccb89b-62d9-4f54-cec2-08505da9af40"
      },
      "execution_count": 35,
      "outputs": [
        {
          "output_type": "stream",
          "name": "stdout",
          "text": [
            "204/204 [==============================] - 0s 2ms/step - loss: 0.0139 - accuracy: 0.9975\n",
            "['loss', 'accuracy']\n",
            "[0.013934679329395294, 0.9975384473800659]\n",
            "accuracy 99.75384473800659\n"
          ]
        }
      ]
    },
    {
      "cell_type": "code",
      "source": [
        "##Evaluate the model with test data\n",
        "scores = model.evaluate(XVALID, YVALID)\n",
        "print(model.metrics_names[1], scores[1]*100)"
      ],
      "metadata": {
        "id": "XwbA5rfSIgSE"
      },
      "execution_count": null,
      "outputs": []
    },
    {
      "cell_type": "code",
      "source": [
        "print(XVALID[0:5])\n",
        "print(YVALID[0:5])"
      ],
      "metadata": {
        "colab": {
          "base_uri": "https://localhost:8080/"
        },
        "id": "2p7iXasEIwDG",
        "outputId": "11b2c131-c63e-4fb4-ca77-094de459919f"
      },
      "execution_count": 72,
      "outputs": [
        {
          "output_type": "stream",
          "name": "stdout",
          "text": [
            "  cap-shape cap-surface cap-color bruises%3F  odor gill-attachment  \\\n",
            "0      b'x'        b's'      b'w'       b't'  b'f'            b'f'   \n",
            "1      b'x'        b's'      b'g'       b'f'  b'c'            b'f'   \n",
            "2      b'x'        b'y'      b'n'       b't'  b'n'            b'f'   \n",
            "3      b'f'        b'y'      b'g'       b't'  b'n'            b'f'   \n",
            "4      b's'        b'f'      b'g'       b'f'  b'n'            b'f'   \n",
            "\n",
            "  gill-spacing gill-size gill-color stalk-shape  ... stalk-surface-below-ring  \\\n",
            "0         b'c'      b'b'       b'h'        b't'  ...                     b's'   \n",
            "1         b'w'      b'n'       b'n'        b'e'  ...                     b's'   \n",
            "2         b'c'      b'b'       b'u'        b't'  ...                     b's'   \n",
            "3         b'c'      b'b'       b'n'        b't'  ...                     b's'   \n",
            "4         b'c'      b'n'       b'n'        b'e'  ...                     b's'   \n",
            "\n",
            "  stalk-color-above-ring stalk-color-below-ring veil-type veil-color  \\\n",
            "0                   b'w'                   b'w'      b'p'       b'w'   \n",
            "1                   b'w'                   b'w'      b'p'       b'w'   \n",
            "2                   b'w'                   b'g'      b'p'       b'w'   \n",
            "3                   b'g'                   b'g'      b'p'       b'w'   \n",
            "4                   b'w'                   b'w'      b'p'       b'w'   \n",
            "\n",
            "  ring-number ring-type spore-print-color population habitat  \n",
            "0        b'o'      b'p'              b'h'       b's'    b'u'  \n",
            "1        b'o'      b'p'              b'n'       b's'    b'd'  \n",
            "2        b'o'      b'p'              b'k'       b'v'    b'd'  \n",
            "3        b'o'      b'p'              b'n'       b'y'    b'd'  \n",
            "4        b'o'      b'p'              b'k'       b'v'    b'u'  \n",
            "\n",
            "[5 rows x 22 columns]\n",
            "  class\n",
            "0  b'p'\n",
            "1  b'p'\n",
            "2  b'e'\n",
            "3  b'e'\n",
            "4  b'e'\n"
          ]
        }
      ]
    },
    {
      "cell_type": "code",
      "source": [
        "##Show plot for what the prediction values actually are\n",
        "prediction = model.predict(XVALID)\n",
        "print(prediction[0:10])\n",
        "print(prediction[0:10].round())\n",
        "\n",
        "plt.plot(YVALID, prediction, '.', alpha = 0.3)\n",
        "plt.xlabel('Correct labels')\n",
        "plt.ylabel('Predicted confidence scores')\n",
        "plt.show()"
      ],
      "metadata": {
        "id": "2i_9xiM4I9oA"
      },
      "execution_count": null,
      "outputs": []
    },
    {
      "cell_type": "code",
      "source": [
        "##Doesn't work. Use for logistic regression\n",
        "def my_prediction_function(model, data):\n",
        "  w = [None]*numOfFeatures\n",
        "  for i in range(numOfFeatures):\n",
        "     w[i] = model.layers[numOfLayers-1].get_weights()[0][i]\n",
        "  bias = model.layers[numOfLayers-1].get_weights()[1] \n",
        "  z = 0\n",
        "  for i in range(numOfFeatures):\n",
        "    z = z + features[numOfLayers-2][:,i]*w[i]\n",
        "  z = z + bias\n",
        "  result = 1/(1+np.exp(-z))\n",
        "  return result "
      ],
      "metadata": {
        "id": "saj7Lk-ZJCsh"
      },
      "execution_count": null,
      "outputs": []
    },
    {
      "cell_type": "markdown",
      "source": [
        "###This function will loop through various models taken in as parameters and print out the accuracies of each model."
      ],
      "metadata": {
        "id": "QAB1WIL1kJBX"
      }
    },
    {
      "cell_type": "code",
      "source": [
        "##Iterate through different complexities of neural network models\n",
        "def model_mash(first = [], hiddens = [[]]):\n",
        "  models = []\n",
        "  first = first\n",
        "  hiddens = hiddens\n",
        "  for k in range(len(first)):\n",
        "    inst = Sequential()\n",
        "    inst.add(Dense(first[k], input_dim = 22, activation = 'relu'))\n",
        "    for l in range(len(hiddens[k])):\n",
        "      inst.add(Dense(hiddens[k][l], activation = 'relu'))\n",
        "    inst.add(Dense(1, activation = 'sigmoid'))\n",
        "    # print(inst.summary())\n",
        "    inst.compile(loss = 'binary_crossentropy', optimizer = 'adam', metrics = ['accuracy'])\n",
        "    history = inst.fit(XTRAIN, YTRAIN, validation_data = (XVALID, YVALID), epochs = 5, batch_size = 10, callbacks = [callback_a,callback_b], verbose = 0)\n",
        "    scores_train = inst.evaluate(XTRAIN, YTRAIN)\n",
        "    scores_test = inst.evaluate(XVALID, YVALID)\n",
        "    models.append([inst, inst.metrics_names[1], scores_train[1]*100, scores_test[1]*100])\n",
        "  print('-Model- :', '-Training Acc- :', '-Test Acc-')\n",
        "  for x in range(len(models)):\n",
        "    print(first[x], hiddens[x], '1', ':' , models[x][2], ':', models[x][3])\n",
        "\n"
      ],
      "metadata": {
        "id": "YpNZJEocN1R9"
      },
      "execution_count": 84,
      "outputs": []
    },
    {
      "cell_type": "code",
      "source": [
        "##Call the function\n",
        "model_mash(first = [64,32,16,8,4,2], hiddens = [[32,16,8],[16,8],[8],[],[],[]])"
      ],
      "metadata": {
        "colab": {
          "base_uri": "https://localhost:8080/"
        },
        "id": "T8aiyAQGCzUh",
        "outputId": "be15b7de-347b-4578-a2db-583036ea66d0"
      },
      "execution_count": 85,
      "outputs": [
        {
          "output_type": "stream",
          "name": "stdout",
          "text": [
            "204/204 [==============================] - 0s 1ms/step - loss: 1.2095e-04 - accuracy: 1.0000\n",
            "51/51 [==============================] - 0s 2ms/step - loss: 2.4542e-04 - accuracy: 1.0000\n",
            "204/204 [==============================] - 0s 2ms/step - loss: 4.1997e-04 - accuracy: 1.0000\n",
            "51/51 [==============================] - 0s 2ms/step - loss: 4.7676e-04 - accuracy: 1.0000\n",
            "204/204 [==============================] - 0s 1ms/step - loss: 0.0054 - accuracy: 1.0000\n",
            "51/51 [==============================] - 0s 1ms/step - loss: 0.0061 - accuracy: 1.0000\n",
            "204/204 [==============================] - 0s 1ms/step - loss: 0.0648 - accuracy: 0.9760\n",
            "51/51 [==============================] - 0s 1ms/step - loss: 0.0686 - accuracy: 0.9741\n",
            "204/204 [==============================] - 0s 2ms/step - loss: 0.0514 - accuracy: 0.9863\n",
            "51/51 [==============================] - 0s 2ms/step - loss: 0.0573 - accuracy: 0.9840\n",
            "204/204 [==============================] - 1s 4ms/step - loss: 0.1138 - accuracy: 0.9486\n",
            "51/51 [==============================] - 0s 2ms/step - loss: 0.1149 - accuracy: 0.9501\n",
            "-Model- : -Training Acc- : -Test Acc-\n",
            "64 [32, 16, 8] 1 : 100.0 : 100.0\n",
            "32 [16, 8] 1 : 100.0 : 100.0\n",
            "16 [8] 1 : 100.0 : 100.0\n",
            "8 [] 1 : 97.60000109672546 : 97.41379022598267\n",
            "4 [] 1 : 98.6307680606842 : 98.39901328086853\n",
            "2 [] 1 : 94.86153721809387 : 95.0123131275177\n"
          ]
        }
      ]
    },
    {
      "cell_type": "code",
      "source": [
        "##Dummy classifier\n",
        "counts['p'] = [counts[0] / (counts[0]+counts[1]) , counts[1] / (counts[0]+counts[1])]\n",
        "print(counts)\n",
        "baseline = counts['p'][0]**2 + counts['p'][1]**2\n",
        "print(baseline)"
      ],
      "metadata": {
        "colab": {
          "base_uri": "https://localhost:8080/"
        },
        "id": "5LZfBdQcT0rD",
        "outputId": "53500b64-9ec5-40f3-dd9e-b176d152f97b"
      },
      "execution_count": 63,
      "outputs": [
        {
          "output_type": "stream",
          "name": "stdout",
          "text": [
            "class\n",
            "b'e'                                        4208\n",
            "b'p'                                        3916\n",
            "p       [0.517971442639094, 0.48202855736090594]\n",
            "dtype: object\n",
            "0.5006459455010605\n"
          ]
        }
      ]
    },
    {
      "cell_type": "code",
      "source": [
        "##Show the datatable for the accuracy of each model against the others\n",
        "print('-Model-', '-Training Acc-', '-Test Acc-')\n",
        "for x in range(len(models)):\n",
        "  print(first[x], hiddens[x], '1', ':' , models[x][2], models[x][3])\n"
      ],
      "metadata": {
        "colab": {
          "base_uri": "https://localhost:8080/",
          "height": 235
        },
        "id": "CciAJPReHA01",
        "outputId": "91276052-996c-45d2-81e6-1056a0a394f2"
      },
      "execution_count": 79,
      "outputs": [
        {
          "output_type": "stream",
          "name": "stdout",
          "text": [
            "-Model- -Training Acc- -Test Acc-\n"
          ]
        },
        {
          "output_type": "error",
          "ename": "NameError",
          "evalue": "ignored",
          "traceback": [
            "\u001b[0;31m---------------------------------------------------------------------------\u001b[0m",
            "\u001b[0;31mNameError\u001b[0m                                 Traceback (most recent call last)",
            "\u001b[0;32m<ipython-input-79-e8a63be551f7>\u001b[0m in \u001b[0;36m<cell line: 3>\u001b[0;34m()\u001b[0m\n\u001b[1;32m      1\u001b[0m \u001b[0;31m##Show the datatable for the accuracy of each model against the others\u001b[0m\u001b[0;34m\u001b[0m\u001b[0;34m\u001b[0m\u001b[0m\n\u001b[1;32m      2\u001b[0m \u001b[0mprint\u001b[0m\u001b[0;34m(\u001b[0m\u001b[0;34m'-Model-'\u001b[0m\u001b[0;34m,\u001b[0m \u001b[0;34m'-Training Acc-'\u001b[0m\u001b[0;34m,\u001b[0m \u001b[0;34m'-Test Acc-'\u001b[0m\u001b[0;34m)\u001b[0m\u001b[0;34m\u001b[0m\u001b[0;34m\u001b[0m\u001b[0m\n\u001b[0;32m----> 3\u001b[0;31m \u001b[0;32mfor\u001b[0m \u001b[0mx\u001b[0m \u001b[0;32min\u001b[0m \u001b[0mrange\u001b[0m\u001b[0;34m(\u001b[0m\u001b[0mlen\u001b[0m\u001b[0;34m(\u001b[0m\u001b[0mmodels\u001b[0m\u001b[0;34m)\u001b[0m\u001b[0;34m)\u001b[0m\u001b[0;34m:\u001b[0m\u001b[0;34m\u001b[0m\u001b[0;34m\u001b[0m\u001b[0m\n\u001b[0m\u001b[1;32m      4\u001b[0m   \u001b[0mprint\u001b[0m\u001b[0;34m(\u001b[0m\u001b[0mfirst\u001b[0m\u001b[0;34m[\u001b[0m\u001b[0mx\u001b[0m\u001b[0;34m]\u001b[0m\u001b[0;34m,\u001b[0m \u001b[0mhiddens\u001b[0m\u001b[0;34m[\u001b[0m\u001b[0mx\u001b[0m\u001b[0;34m]\u001b[0m\u001b[0;34m,\u001b[0m \u001b[0;34m'1'\u001b[0m\u001b[0;34m,\u001b[0m \u001b[0;34m':'\u001b[0m \u001b[0;34m,\u001b[0m \u001b[0mmodels\u001b[0m\u001b[0;34m[\u001b[0m\u001b[0mx\u001b[0m\u001b[0;34m]\u001b[0m\u001b[0;34m[\u001b[0m\u001b[0;36m2\u001b[0m\u001b[0;34m]\u001b[0m\u001b[0;34m,\u001b[0m \u001b[0mmodels\u001b[0m\u001b[0;34m[\u001b[0m\u001b[0mx\u001b[0m\u001b[0;34m]\u001b[0m\u001b[0;34m[\u001b[0m\u001b[0;36m3\u001b[0m\u001b[0;34m]\u001b[0m\u001b[0;34m)\u001b[0m\u001b[0;34m\u001b[0m\u001b[0;34m\u001b[0m\u001b[0m\n",
            "\u001b[0;31mNameError\u001b[0m: name 'models' is not defined"
          ]
        }
      ]
    },
    {
      "cell_type": "markdown",
      "source": [
        "##Phase 4 - Feature Importance\n",
        "###This section tries to see which features matter more during the training process. I will loop through each column in the training dataset and see what the test scores will be. "
      ],
      "metadata": {
        "id": "LKO4hl8DL7tm"
      }
    },
    {
      "cell_type": "code",
      "source": [
        "\n",
        "fYTRAIN = YTRAIN\n",
        "fYTEST = YVALID\n",
        "bars_name = []\n",
        "bars_val = []\n",
        "\n",
        "for f in range(len(cols)-1):\n",
        "  fXTRAIN = XTRAIN[cols[f]]\n",
        "  fXTEST = XVALID[cols[f]]\n",
        "  feat = Sequential()\n",
        "  feat.add(Dense(2, input_dim = 1, activation = 'relu'))\n",
        "  feat.add(Dense(1, activation = 'sigmoid'))\n",
        "  feat.compile(loss = 'binary_crossentropy', optimizer = 'adam', metrics = ['accuracy'])\n",
        "  history_feat = feat.fit(fXTRAIN, fYTRAIN, validation_data = (fXTEST,fYTEST), epochs = 5, batch_size = 10, callbacks = [callback_a,callback_b], verbose = 0)\n",
        "  fscore = feat.evaluate(fXTEST, fYTEST)\n",
        "  bars_name.append(cols[f])\n",
        "  bars_val.append(fscore[1]*100)\n",
        "daf = pd.concat([pd.Series(bars_name), pd.Series(bars_val)], axis=1)\n",
        "daf.sort_values(by = 1, inplace = True, ascending = False)\n",
        "ax = sns.barplot(x = daf[0], y = daf[1])\n",
        "ax.set(ylim=(40, 100))\n",
        "plt.xticks(rotation='vertical')\n",
        "\n"
      ],
      "metadata": {
        "colab": {
          "base_uri": "https://localhost:8080/",
          "height": 1000
        },
        "id": "_ASBBboJJ2Fb",
        "outputId": "b55dea91-c70d-4ea0-95b0-bf408cd5a995"
      },
      "execution_count": 68,
      "outputs": [
        {
          "output_type": "execute_result",
          "data": {
            "text/plain": [
              "(array([ 0,  1,  2,  3,  4,  5,  6,  7,  8,  9, 10, 11, 12, 13, 14, 15, 16,\n",
              "        17, 18, 19, 20, 21]),\n",
              " [Text(0, 0, 'odor'),\n",
              "  Text(1, 0, 'gill-size'),\n",
              "  Text(2, 0, 'ring-type'),\n",
              "  Text(3, 0, 'bruises%3F'),\n",
              "  Text(4, 0, 'stalk-surface-below-ring'),\n",
              "  Text(5, 0, 'gill-color'),\n",
              "  Text(6, 0, 'stalk-color-above-ring'),\n",
              "  Text(7, 0, 'gill-spacing'),\n",
              "  Text(8, 0, 'stalk-root'),\n",
              "  Text(9, 0, 'cap-surface'),\n",
              "  Text(10, 0, 'ring-number'),\n",
              "  Text(11, 0, 'cap-shape'),\n",
              "  Text(12, 0, 'veil-color'),\n",
              "  Text(13, 0, 'population'),\n",
              "  Text(14, 0, 'spore-print-color'),\n",
              "  Text(15, 0, 'stalk-surface-above-ring'),\n",
              "  Text(16, 0, 'veil-type'),\n",
              "  Text(17, 0, 'stalk-color-below-ring'),\n",
              "  Text(18, 0, 'stalk-shape'),\n",
              "  Text(19, 0, 'gill-attachment'),\n",
              "  Text(20, 0, 'cap-color'),\n",
              "  Text(21, 0, 'habitat')])"
            ]
          },
          "metadata": {},
          "execution_count": 68
        },
        {
          "output_type": "display_data",
          "data": {
            "text/plain": [
              "<Figure size 640x480 with 1 Axes>"
            ],
            "image/png": "[encoded data removed]"
          },
          "metadata": {}
        }
      ]
    }
  ]
}